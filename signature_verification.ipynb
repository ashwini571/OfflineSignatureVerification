{
  "nbformat": 4,
  "nbformat_minor": 0,
  "metadata": {
    "celltoolbar": "Raw Cell Format",
    "kernelspec": {
      "display_name": "Python 3",
      "language": "python",
      "name": "python3"
    },
    "language_info": {
      "codemirror_mode": {
        "name": "ipython",
        "version": 3
      },
      "file_extension": ".py",
      "mimetype": "text/x-python",
      "name": "python",
      "nbconvert_exporter": "python",
      "pygments_lexer": "ipython3",
      "version": "3.6.4"
    },
    "colab": {
      "name": "signature_verification.ipynb",
      "provenance": []
    },
    "accelerator": "GPU"
  },
  "cells": [
    {
      "cell_type": "markdown",
      "metadata": {
        "id": "6_eJJI2JYBoE"
      },
      "source": [
        "### Importing libraries \n"
      ]
    },
    {
      "cell_type": "code",
      "metadata": {
        "id": "IG0O5QmPYBoG"
      },
      "source": [
        "import sys\n",
        "import numpy as np\n",
        "import pickle\n",
        "import os\n",
        "import matplotlib.pyplot as plt\n",
        "%matplotlib inline\n",
        "\n",
        "import cv2\n",
        "import time\n",
        "import itertools\n",
        "import random\n",
        "\n",
        "from sklearn.utils import shuffle\n",
        "\n",
        "import tensorflow as tf\n",
        "from keras.models import Sequential\n",
        "from keras.optimizers import Adam, RMSprop\n",
        "from keras.layers import Conv2D, ZeroPadding2D, Activation, Input, concatenate, Dropout\n",
        "from keras.models import Model\n",
        "\n",
        "from keras.layers.normalization import BatchNormalization\n",
        "from keras.layers.pooling import MaxPooling2D\n",
        "from keras.layers.merge import Concatenate\n",
        "from keras.layers.core import Lambda, Flatten, Dense\n",
        "from keras.initializers import glorot_uniform\n",
        "\n",
        "from keras.engine.topology import Layer\n",
        "from keras.regularizers import l2\n",
        "from keras import backend as K\n",
        "from keras.callbacks import EarlyStopping, ModelCheckpoint, ReduceLROnPlateau"
      ],
      "execution_count": 1,
      "outputs": []
    },
    {
      "cell_type": "markdown",
      "metadata": {
        "id": "VlWX3QtSx3Hr"
      },
      "source": [
        "### Mount Drive"
      ]
    },
    {
      "cell_type": "code",
      "metadata": {
        "id": "F02tqO7zfx9h",
        "colab": {
          "base_uri": "https://localhost:8080/"
        },
        "outputId": "8a9f987d-08d2-4b2b-f968-672508ba0bc1"
      },
      "source": [
        "from google.colab import drive\n",
        "drive.mount('/content/drive')"
      ],
      "execution_count": 2,
      "outputs": [
        {
          "output_type": "stream",
          "text": [
            "Mounted at /content/drive\n"
          ],
          "name": "stdout"
        }
      ]
    },
    {
      "cell_type": "markdown",
      "metadata": {
        "id": "u-yYEl88YBoN"
      },
      "source": [
        "Path to store weights"
      ]
    },
    {
      "cell_type": "code",
      "metadata": {
        "id": "ZdXjGHtDYBoO",
        "colab": {
          "base_uri": "https://localhost:8080/"
        },
        "outputId": "ae4d0ec3-9424-43af-bac6-b0af0fb1db48"
      },
      "source": [
        "path='/content/drive/My Drive/Colab Notebooks/weights3/'\n",
        "dir_list = os.listdir(path) \n",
        "print(dir_list)"
      ],
      "execution_count": 3,
      "outputs": [
        {
          "output_type": "stream",
          "text": [
            "['signet-Engsig61-001.h5', 'signet-Engsig61-003.h5', 'signet-Engsig61-004.h5', 'signet-Engsig61-006.h5', 'signet-Engsig61-007.h5', 'signet-Engsig61-008.h5', 'signet-Engsig61-009.h5', 'signet-Engsig61-010.h5']\n"
          ],
          "name": "stdout"
        }
      ]
    },
    {
      "cell_type": "markdown",
      "metadata": {
        "id": "hgOA84IvYBoW"
      },
      "source": [
        "Path to dataset"
      ]
    },
    {
      "cell_type": "code",
      "metadata": {
        "id": "bcpR9d5_YBoX"
      },
      "source": [
        "path = r\"/content/drive/My Drive/Colab Notebooks/datasets/cedar_dataset\""
      ],
      "execution_count": 4,
      "outputs": []
    },
    {
      "cell_type": "code",
      "metadata": {
        "id": "36tquWgRYBod"
      },
      "source": [
        "# Get the list of all directories and sort them\n",
        "dir_list = next(os.walk(path))[1]\n",
        "dir_list.sort()\n",
        "dir_list"
      ],
      "execution_count": 5,
      "outputs": []
    },
    {
      "cell_type": "markdown",
      "metadata": {
        "id": "MLCjdH2nDfU0"
      },
      "source": [
        "## Image Processing"
      ]
    },
    {
      "cell_type": "code",
      "metadata": {
        "id": "TqUF8Ws7Dd9g"
      },
      "source": [
        "def preprocess(image):\n",
        "    clean = remove_background(image)\n",
        "    roi = extract_signature(clean)\n",
        "    th,res= cv2.threshold(roi, 0, 255, cv2.THRESH_BINARY + cv2.THRESH_OTSU)\n",
        "    \n",
        "    # r = ndimage.rotate(res, -(90-math.degrees(math.atan(res.shape[1]/res.shape[0]))))\n",
        "    # angle = 90-math.degrees(math.atan(res.shape[1]/res.shape[0]))\n",
        "    # if angle > 20:\n",
        "    #     res = rotate_image(res, -(angle if angle>20 else 0))\n",
        "   \n",
        "    return res\n",
        "\n",
        "def rotate_image(image, angle):\n",
        "  rot_mat = cv2.getRotationMatrix2D((image.shape[0]/2+40,image.shape[1]/2+40), angle, 1.0)\n",
        "  result = cv2.warpAffine(image, rot_mat, (int(math.sqrt(image.shape[0]*image.shape[0]+image.shape[1]*image.shape[1])),int(image.shape[1])), flags=cv2.INTER_LINEAR,borderValue=(255,255,255))\n",
        "  return result\n",
        "\n",
        "\n",
        "\n",
        "def extract_signature(image):\n",
        "    result = image.copy()\n",
        "    img = image.copy()\n",
        "    ret, mask = cv2.threshold(img, 0, 255, cv2.THRESH_BINARY_INV + cv2.THRESH_OTSU)\n",
        "        \n",
        "    kernel = cv2.getStructuringElement(cv2.MORPH_RECT, (3,3))\n",
        "    # opening = cv2.morphologyEx(mask, cv2.MORPH_OPEN, kernel)\n",
        "    closing = cv2.morphologyEx(mask, cv2.MORPH_CLOSE, kernel)\n",
        "    \n",
        "    cnts,hi = cv2.findContours(closing.astype(np.uint8), cv2.RETR_EXTERNAL, cv2.CHAIN_APPROX_SIMPLE)\n",
        "    \n",
        "    boxes = []\n",
        "    for c in cnts:\n",
        "        (x, y, w, h) = cv2.boundingRect(c)\n",
        "        boxes.append([x,y, x+w,y+h])\n",
        "    \n",
        "    boxes = np.asarray(boxes)\n",
        "    left = np.min(boxes[:,0])\n",
        "    top = np.min(boxes[:,1])\n",
        "    right = np.max(boxes[:,2])\n",
        "    bottom = np.max(boxes[:,3])\n",
        "    \n",
        "    result[closing==0] = (255)\n",
        "    ROI = result[top:bottom, left:right].copy()\n",
        "    cv2.rectangle(result, (left,top), (right,bottom), (36, 255, 12), 2)\n",
        "    \n",
        "    # cv2.imshow('result', result)\n",
        "    # cv2.imshow('ROI', ROI)\n",
        "    # cv2.imshow('Mask', mask)\n",
        "    # cv2.imshow('closing',closing)\n",
        "\n",
        "    cv2.waitKey()\n",
        "    \n",
        "    return ROI\n",
        "\n",
        "\n",
        "def remove_background(img):\n",
        "        \"\"\" Remove noise using OTSU's method.\n",
        "\n",
        "        :param img: The image to be processed\n",
        "        :return: The normalized image\n",
        "        \"\"\"\n",
        "        img = img.astype(np.uint8)\n",
        "        # Binarize the image using OTSU's algorithm. This is used to find the center\n",
        "        # of mass of the image, and find the threshold to remove background noise\n",
        "    \n",
        "        threshold, _ = cv2.threshold(img, 0, 255, cv2.THRESH_BINARY + cv2.THRESH_OTSU)\n",
        "        # Remove noise - anything higher than the threshold. Note that the image is still grayscale\n",
        "        img[img > threshold] = 255\n",
        "\n",
        "        return img"
      ],
      "execution_count": null,
      "outputs": []
    },
    {
      "cell_type": "markdown",
      "metadata": {
        "id": "FY28HO8KYBo5"
      },
      "source": [
        "## Forged Groups from cedar dataset"
      ]
    },
    {
      "cell_type": "code",
      "metadata": {
        "id": "NuJLLqdyYBo5",
        "colab": {
          "base_uri": "https://localhost:8080/"
        },
        "outputId": "a9b59971-f1a0-4a00-8846-e08db19daf00"
      },
      "source": [
        "forg_groups = []\n",
        "for i in dir_list[0]:\n",
        "    images = os.listdir(path+'/'+dir_list[0])\n",
        "    images.sort()\n",
        "\n",
        "    images = [path+'/'+ dir_list[0] + '/'+ x for x in images]\n",
        "\n",
        "print(len(images))\n",
        "i=0\n",
        "j=12\n",
        "for _ in range(0,61):#57    \n",
        "    forg_groups.append(images[i:j])\n",
        "    i=j\n",
        "    j+=12\n",
        "forg_groups[60]"
      ],
      "execution_count": 7,
      "outputs": [
        {
          "output_type": "stream",
          "text": [
            "1320\n"
          ],
          "name": "stdout"
        },
        {
          "output_type": "execute_result",
          "data": {
            "text/plain": [
              "['/content/drive/My Drive/Colab Notebooks/datasets/cedar_dataset/full_forg/forgeries_38_1.png',\n",
              " '/content/drive/My Drive/Colab Notebooks/datasets/cedar_dataset/full_forg/forgeries_38_10.png',\n",
              " '/content/drive/My Drive/Colab Notebooks/datasets/cedar_dataset/full_forg/forgeries_38_11.png',\n",
              " '/content/drive/My Drive/Colab Notebooks/datasets/cedar_dataset/full_forg/forgeries_38_12.png',\n",
              " '/content/drive/My Drive/Colab Notebooks/datasets/cedar_dataset/full_forg/forgeries_38_13.png',\n",
              " '/content/drive/My Drive/Colab Notebooks/datasets/cedar_dataset/full_forg/forgeries_38_14.png',\n",
              " '/content/drive/My Drive/Colab Notebooks/datasets/cedar_dataset/full_forg/forgeries_38_15.png',\n",
              " '/content/drive/My Drive/Colab Notebooks/datasets/cedar_dataset/full_forg/forgeries_38_16.png',\n",
              " '/content/drive/My Drive/Colab Notebooks/datasets/cedar_dataset/full_forg/forgeries_38_17.png',\n",
              " '/content/drive/My Drive/Colab Notebooks/datasets/cedar_dataset/full_forg/forgeries_38_18.png',\n",
              " '/content/drive/My Drive/Colab Notebooks/datasets/cedar_dataset/full_forg/forgeries_38_19.png',\n",
              " '/content/drive/My Drive/Colab Notebooks/datasets/cedar_dataset/full_forg/forgeries_38_2.png']"
            ]
          },
          "metadata": {
            "tags": []
          },
          "execution_count": 7
        }
      ]
    },
    {
      "cell_type": "markdown",
      "metadata": {
        "id": "xlITc6GkYBo9"
      },
      "source": [
        "## Original Groups from cedar dataset"
      ]
    },
    {
      "cell_type": "code",
      "metadata": {
        "id": "kIOM0-7vYBo-"
      },
      "source": [
        "orig_groups= []\n",
        "for i in dir_list[0]:\n",
        "    images = os.listdir(path+'/'+dir_list[1])\n",
        "    images.sort()\n",
        "    # images.remove('Thumbs.db')\n",
        "    images = [path+'/'+ dir_list[1] + '/'+ x for x in images]\n",
        "\n",
        "print(len(images))\n",
        "i=0\n",
        "j=12\n",
        "for _ in range(0,61):    \n",
        "    orig_groups.append(images[i:j])\n",
        "    i=j\n",
        "    j+=12\n",
        "orig_groups[60]"
      ],
      "execution_count": null,
      "outputs": []
    },
    {
      "cell_type": "code",
      "metadata": {
        "id": "Zhj_gDtuYBpF"
      },
      "source": [
        "orig_lengths = [len(x) for x in orig_groups]\n",
        "forg_lengths = [len(x) for x in forg_groups]"
      ],
      "execution_count": 9,
      "outputs": []
    },
    {
      "cell_type": "code",
      "metadata": {
        "id": "4__7Lan9y865",
        "colab": {
          "base_uri": "https://localhost:8080/"
        },
        "outputId": "6e80b514-54a5-433b-c09e-12e793bd7029"
      },
      "source": [
        "# Quick check to confirm that there are 12 Genuine signatures for each individual\n",
        "flag=0\n",
        "for i in range(0,len(orig_lengths)):\n",
        "\tfor j in range(i+1,len(orig_lengths)):\n",
        "\t\t       if orig_lengths[i]==orig_lengths[j]:\n",
        "\t\t\t       flag=1\n",
        "print(flag)"
      ],
      "execution_count": 11,
      "outputs": [
        {
          "output_type": "stream",
          "text": [
            "1\n"
          ],
          "name": "stdout"
        }
      ]
    },
    {
      "cell_type": "code",
      "metadata": {
        "id": "m9iV9VZ0zQNP",
        "colab": {
          "base_uri": "https://localhost:8080/"
        },
        "outputId": "d6c788d1-380e-4636-9bf9-731bbc75fbce"
      },
      "source": [
        "# Quick check to confirm that there are 12 Forged signatures for each individual\n",
        "flag=0\n",
        "for i in range(0,len(forg_lengths)):\n",
        "\tfor j in range(i+1,len(forg_lengths)):\n",
        "\t\t       if forg_lengths[i]==forg_lengths[j]:\n",
        "\t\t\t       flag=1\n",
        "print(flag)"
      ],
      "execution_count": 13,
      "outputs": [
        {
          "output_type": "stream",
          "text": [
            "1\n"
          ],
          "name": "stdout"
        }
      ]
    },
    {
      "cell_type": "markdown",
      "metadata": {
        "id": "Aum6UQRMYBpR"
      },
      "source": [
        "## Train-Validation-Test Split\n",
        "* Signatures of 40 people are used for training\n",
        "* Signatures of 15 people are used for validation\n",
        "* Signatures of 06 people are used for testing"
      ]
    },
    {
      "cell_type": "code",
      "metadata": {
        "id": "TKCZmoSSYBpR"
      },
      "source": [
        "#orig_train, orig_val, orig_test = orig_groups[:1224], orig_groups[1224:], orig_groups[1320:]\n",
        "#forg_train, forg_val, forg_test = forg_groups[:1224], forg_groups[1224:], forg_groups[1320:]\n",
        "#orig_train, orig_val, orig_test = orig_groups[:1176], orig_groups[1200:1320], orig_groups[1320:]\n",
        "#forg_train, forg_val, forg_test = forg_groups[:1176], forg_groups[1200:1320], forg_groups[1320:]\n",
        "\n",
        "orig_train, orig_val, orig_test = orig_groups[:40], orig_groups[40:55], orig_groups[55:]\n",
        "forg_train, forg_val, forg_test = forg_groups[:40], forg_groups[40:55], forg_groups[55:]"
      ],
      "execution_count": 10,
      "outputs": []
    },
    {
      "cell_type": "markdown",
      "metadata": {
        "id": "AgtVxf4qYBqO"
      },
      "source": [
        "## Generating batch "
      ]
    },
    {
      "cell_type": "code",
      "metadata": {
        "id": "1TPrDIVOYBpd"
      },
      "source": [
        "# All the images will be converted to the same size before processing\n",
        "img_h, img_w = 155, 220"
      ],
      "execution_count": 11,
      "outputs": []
    },
    {
      "cell_type": "code",
      "metadata": {
        "id": "sKIs3slFYBqU"
      },
      "source": [
        "def generate_batch(orig_groups, forg_groups, batch_size = 32):\n",
        "    '''Function to generate a batch of data with batch_size number of data points\n",
        "    Half of the data points will be Genuine-Genuine pairs and half will be Genuine-Forged pairs'''\n",
        "    while True:\n",
        "        orig_pairs = []\n",
        "        forg_pairs = []\n",
        "        gen_gen_labels = []\n",
        "        gen_for_labels = []\n",
        "        all_pairs = []\n",
        "        all_labels = []\n",
        "        \n",
        "\n",
        "        \n",
        "        for orig, forg in zip(orig_groups, forg_groups):\n",
        "            orig_pairs.extend(list(itertools.combinations(orig, 2)))\n",
        "            for i in range(len(forg)):\n",
        "                forg_pairs.extend(list(itertools.product(orig[i:i+1], random.sample(forg, 6)))) #6 for 6 samples random\n",
        "        \n",
        "        # Label for Genuine-Genuine pairs is 1\n",
        "        # Label for Genuine-Forged pairs is 0\n",
        "        gen_gen_labels = [1]*len(orig_pairs)\n",
        "        gen_for_labels = [0]*len(forg_pairs)\n",
        "        \n",
        "        # Concatenate all the pairs together along with their labels and shuffle them\n",
        "        all_pairs = orig_pairs + forg_pairs\n",
        "        all_labels = gen_gen_labels + gen_for_labels\n",
        "        del orig_pairs, forg_pairs, gen_gen_labels, gen_for_labels\n",
        "        all_pairs, all_labels = shuffle(all_pairs, all_labels)\n",
        "\n",
        "        k = 0\n",
        "        pairs=[np.zeros((batch_size, img_h, img_w, 1)) for i in range(2)]\n",
        "        targets=np.zeros((batch_size,))\n",
        "        for ix, pair in enumerate(all_pairs):\n",
        "            img1 = cv2.imread(pair[0], 0)\n",
        "            img2 = cv2.imread(pair[1], 0)\n",
        "            # img1 = preprocess(img1)\n",
        "            # img2 = preprocess(img2)\n",
        "            img1 = cv2.resize(img1, (img_w, img_h))\n",
        "            img2 = cv2.resize(img2, (img_w, img_h))\n",
        "            img1 = np.array(img1, dtype = np.float64)\n",
        "            img2 = np.array(img2, dtype = np.float64)\n",
        "            img1 /= 255\n",
        "            img2 /= 255\n",
        "            img1 = img1[..., np.newaxis]\n",
        "            img2 = img2[..., np.newaxis]\n",
        "            pairs[0][k, :, :, :] = img1\n",
        "            pairs[1][k, :, :, :] = img2\n",
        "            targets[k] = all_labels[ix]\n",
        "            k += 1\n",
        "            if k == batch_size:\n",
        "                yield pairs, targets\n",
        "                k = 0\n",
        "                pairs=[np.zeros((batch_size, img_h, img_w, 1)) for i in range(2)]\n",
        "                targets=np.zeros((batch_size,))"
      ],
      "execution_count": 12,
      "outputs": []
    },
    {
      "cell_type": "markdown",
      "metadata": {
        "id": "_fNvUu2iC7fX"
      },
      "source": [
        "## Similairity Metric and Loss Function"
      ]
    },
    {
      "cell_type": "code",
      "metadata": {
        "id": "aYl8QtI9YBqP"
      },
      "source": [
        "def euclidean_distance(vects):\n",
        "    '''Compute Euclidean Distance between two vectors'''\n",
        "    x, y = vects\n",
        "    return K.sqrt(K.sum(K.square(x - y), axis=1, keepdims=True))"
      ],
      "execution_count": 13,
      "outputs": []
    },
    {
      "cell_type": "code",
      "metadata": {
        "id": "U4p1B0c5YBqS"
      },
      "source": [
        "def eucl_dist_output_shape(shapes):\n",
        "    shape1, shape2 = shapes\n",
        "    return (shape1[0], 1)"
      ],
      "execution_count": 14,
      "outputs": []
    },
    {
      "cell_type": "code",
      "metadata": {
        "id": "Ski2oOjIYBqZ"
      },
      "source": [
        "def contrastive_loss(y_true, y_pred):\n",
        "    '''Contrastive loss from Hadsell-et-al.'06\n",
        "    http://yann.lecun.com/exdb/publis/pdf/hadsell-chopra-lecun-06.pdf\n",
        "    '''\n",
        "    margin = 1\n",
        "    return K.mean(y_true * K.square(y_pred) + (1 - y_true) * K.square(K.maximum(margin - y_pred, 0)))"
      ],
      "execution_count": 15,
      "outputs": []
    },
    {
      "cell_type": "markdown",
      "metadata": {
        "id": "eg2oDXUuDApK"
      },
      "source": [
        "## Network Architecture"
      ]
    },
    {
      "cell_type": "code",
      "metadata": {
        "id": "MjulEXLaYBqe"
      },
      "source": [
        "def network_architecture(input_shape):\n",
        "\n",
        "    model = Sequential()\n",
        "    model.add(Conv2D(96, kernel_size=(11, 11), activation='relu', name='conv1_1', strides=4, input_shape= input_shape, \n",
        "                        kernel_initializer='glorot_uniform', data_format='channels_last'))\n",
        "\n",
        "    model.add(BatchNormalization(epsilon=1e-06, axis=1, momentum=0.9))\n",
        "    model.add(MaxPooling2D((3,3), strides=(2, 2)))    \n",
        "    model.add(ZeroPadding2D((2, 2), data_format='channels_last'))\n",
        "    \n",
        "    model.add(Conv2D(256, kernel_size=(5, 5), activation='relu', name='conv2_1', strides=1, kernel_initializer='glorot_uniform', data_format='channels_last'))\n",
        "    model.add(BatchNormalization(epsilon=1e-06, axis=1, momentum=0.9))\n",
        "    model.add(MaxPooling2D((3,3), strides=(2, 2)))\n",
        "    model.add(Dropout(0.3))# added extra\n",
        "    model.add(ZeroPadding2D((1, 1), data_format='channels_last'))\n",
        "    \n",
        "    model.add(Conv2D(384, kernel_size=(3, 3), activation='relu', name='conv3_1', strides=1, kernel_initializer='glorot_uniform', data_format='channels_last'))\n",
        "    model.add(ZeroPadding2D((1, 1), data_format='channels_last'))\n",
        "    \n",
        "    model.add(Conv2D(256, kernel_size=(3, 3), activation='relu', name='conv3_2', strides=1, kernel_initializer='glorot_uniform', data_format='channels_last'))    \n",
        "    model.add(MaxPooling2D((3,3), strides=(2, 2)))\n",
        "    model.add(Dropout(0.3))# added extra\n",
        "    \n",
        "    model.add(Flatten(name='flatten'))\n",
        "\n",
        "    model.add(Dense(1024, bias_regularizer=l2(0.0005), activation='relu', kernel_initializer='glorot_uniform'))\n",
        "    model.add(Dropout(0.5))\n",
        "    \n",
        "    model.add(Dense(128, bias_regularizer=l2(0.0005), activation='relu', kernel_initializer='glorot_uniform')) # softmax changed to relu\n",
        "    \n",
        "    return model"
      ],
      "execution_count": 18,
      "outputs": []
    },
    {
      "cell_type": "code",
      "metadata": {
        "id": "g0igJpf_YBqh"
      },
      "source": [
        "input_shape=(img_h, img_w, 1)"
      ],
      "execution_count": 19,
      "outputs": []
    },
    {
      "cell_type": "code",
      "metadata": {
        "id": "4vItMmjoYBqk"
      },
      "source": [
        "# network definition\n",
        "base_network = create_base_network_signet(input_shape)\n",
        "\n",
        "input_a = Input(shape=(input_shape))\n",
        "input_b = Input(shape=(input_shape))\n",
        "\n",
        "# because we re-use the same instance `base_network`,\n",
        "# the weights of the network\n",
        "# will be shared across the two branches\n",
        "processed_a = base_network(input_a)\n",
        "processed_b = base_network(input_b)\n",
        "\n",
        "# Compute the Euclidean distance between the two vectors in the latent space\n",
        "distance = Lambda(euclidean_distance, output_shape=eucl_dist_output_shape)([processed_a, processed_b])\n",
        "\n",
        "model = Model([input_a, input_b], distance)\n"
      ],
      "execution_count": 20,
      "outputs": []
    },
    {
      "cell_type": "code",
      "metadata": {
        "id": "1qS0kJZhYBqn",
        "colab": {
          "base_uri": "https://localhost:8080/"
        },
        "outputId": "18ffa467-c373-4fc9-f4fa-85f184ae5c0c"
      },
      "source": [
        "model.summary()"
      ],
      "execution_count": 36,
      "outputs": [
        {
          "output_type": "stream",
          "text": [
            "Model: \"model\"\n",
            "__________________________________________________________________________________________________\n",
            "Layer (type)                    Output Shape         Param #     Connected to                     \n",
            "==================================================================================================\n",
            "input_1 (InputLayer)            [(None, 155, 220, 1) 0                                            \n",
            "__________________________________________________________________________________________________\n",
            "input_2 (InputLayer)            [(None, 155, 220, 1) 0                                            \n",
            "__________________________________________________________________________________________________\n",
            "sequential (Sequential)         (None, 128)          6461084     input_1[0][0]                    \n",
            "                                                                 input_2[0][0]                    \n",
            "__________________________________________________________________________________________________\n",
            "lambda (Lambda)                 (None, 1)            0           sequential[0][0]                 \n",
            "                                                                 sequential[1][0]                 \n",
            "==================================================================================================\n",
            "Total params: 6,461,084\n",
            "Trainable params: 6,460,974\n",
            "Non-trainable params: 110\n",
            "__________________________________________________________________________________________________\n"
          ],
          "name": "stdout"
        }
      ]
    },
    {
      "cell_type": "code",
      "metadata": {
        "id": "MFmTxSaCYBqq",
        "colab": {
          "base_uri": "https://localhost:8080/"
        },
        "outputId": "908d9f55-7007-4887-e9be-cc12307ad03d"
      },
      "source": [
        "base_network.summary()"
      ],
      "execution_count": 37,
      "outputs": [
        {
          "output_type": "stream",
          "text": [
            "Model: \"sequential\"\n",
            "_________________________________________________________________\n",
            "Layer (type)                 Output Shape              Param #   \n",
            "=================================================================\n",
            "conv1_1 (Conv2D)             (None, 37, 53, 96)        11712     \n",
            "_________________________________________________________________\n",
            "batch_normalization (BatchNo (None, 37, 53, 96)        148       \n",
            "_________________________________________________________________\n",
            "max_pooling2d (MaxPooling2D) (None, 18, 26, 96)        0         \n",
            "_________________________________________________________________\n",
            "zero_padding2d (ZeroPadding2 (None, 22, 30, 96)        0         \n",
            "_________________________________________________________________\n",
            "conv2_1 (Conv2D)             (None, 18, 26, 256)       614656    \n",
            "_________________________________________________________________\n",
            "batch_normalization_1 (Batch (None, 18, 26, 256)       72        \n",
            "_________________________________________________________________\n",
            "max_pooling2d_1 (MaxPooling2 (None, 8, 12, 256)        0         \n",
            "_________________________________________________________________\n",
            "dropout (Dropout)            (None, 8, 12, 256)        0         \n",
            "_________________________________________________________________\n",
            "zero_padding2d_1 (ZeroPaddin (None, 10, 14, 256)       0         \n",
            "_________________________________________________________________\n",
            "conv3_1 (Conv2D)             (None, 8, 12, 384)        885120    \n",
            "_________________________________________________________________\n",
            "zero_padding2d_2 (ZeroPaddin (None, 10, 14, 384)       0         \n",
            "_________________________________________________________________\n",
            "conv3_2 (Conv2D)             (None, 8, 12, 256)        884992    \n",
            "_________________________________________________________________\n",
            "max_pooling2d_2 (MaxPooling2 (None, 3, 5, 256)         0         \n",
            "_________________________________________________________________\n",
            "dropout_1 (Dropout)          (None, 3, 5, 256)         0         \n",
            "_________________________________________________________________\n",
            "flatten (Flatten)            (None, 3840)              0         \n",
            "_________________________________________________________________\n",
            "dense (Dense)                (None, 1024)              3933184   \n",
            "_________________________________________________________________\n",
            "dropout_2 (Dropout)          (None, 1024)              0         \n",
            "_________________________________________________________________\n",
            "dense_1 (Dense)              (None, 128)               131200    \n",
            "=================================================================\n",
            "Total params: 6,461,084\n",
            "Trainable params: 6,460,974\n",
            "Non-trainable params: 110\n",
            "_________________________________________________________________\n"
          ],
          "name": "stdout"
        }
      ]
    },
    {
      "cell_type": "code",
      "metadata": {
        "id": "vAHSmObIYBqu",
        "colab": {
          "base_uri": "https://localhost:8080/"
        },
        "outputId": "b549b63b-0506-4b46-a48a-aa3183646f55"
      },
      "source": [
        "batch_sz = 128\n",
        "#num_train_samples = 276*40 + 288*40\n",
        "#num_val_samples = num_test_samples = 276*10 + 288*10\n",
        "#num_train_samples = 276*40 + 288*40\n",
        "#num_val_samples = num_test_samples = 276*15 + 288*6\n",
        "#num_train_samples, num_val_samples, num_test_samples\n",
        "\n",
        "num_train_samples = 66*40 + 72*40\n",
        "num_val_samples = 66*15 \n",
        "num_test_samples = 72*6\n",
        "num_train_samples, num_val_samples, num_test_samples"
      ],
      "execution_count": 21,
      "outputs": [
        {
          "output_type": "execute_result",
          "data": {
            "text/plain": [
              "(5520, 990, 432)"
            ]
          },
          "metadata": {
            "tags": []
          },
          "execution_count": 21
        }
      ]
    },
    {
      "cell_type": "markdown",
      "metadata": {
        "id": "hB8nWS99YBqx"
      },
      "source": [
        "## Model Training"
      ]
    },
    {
      "cell_type": "code",
      "metadata": {
        "id": "fA6p0JaJYBqx"
      },
      "source": [
        "# compile model using RMSProp Optimizer and Contrastive loss function defined above\n",
        "rms = RMSprop(lr=1e-4, rho=0.9, epsilon=1e-08)\n",
        "model.compile(loss=contrastive_loss, optimizer=rms, metrics=['acc'])"
      ],
      "execution_count": 22,
      "outputs": []
    },
    {
      "cell_type": "code",
      "metadata": {
        "id": "QSuVA1yyYBq0"
      },
      "source": [
        "# Using Keras Callbacks, save the model after every epoch\n",
        "# Reduce the learning rate by a factor of 0.1 if the validation loss does not improve for 5 epochs\n",
        "# Stop the training using early stopping if the validation loss does not improve for 12 epochs\n",
        "callbacks = [\n",
        "    EarlyStopping(patience=12, verbose=1),\n",
        "    ReduceLROnPlateau(factor=0.1, patience=5, min_lr=0.000001, verbose=1),\n",
        "    ModelCheckpoint('/content/drive/My Drive/Colab Notebooks/weights3/signet-Engsig61-{epoch:03d}.h5', monitor='val_loss', verbose=1,save_best_only=True,save_weights_only=True,mode='min')\n",
        "] #260-{epoch:03d}"
      ],
      "execution_count": 23,
      "outputs": []
    },
    {
      "cell_type": "code",
      "metadata": {
        "id": "rwqbDpdOYBq7",
        "colab": {
          "base_uri": "https://localhost:8080/",
          "height": 1000
        },
        "outputId": "0cef4811-0967-4395-8a68-53bcb5facadf"
      },
      "source": [
        "results = model.fit(generate_batch(orig_train, forg_train, batch_sz),\n",
        "                              steps_per_epoch = num_train_samples//batch_sz,\n",
        "                              epochs = 20,\n",
        "                              validation_data = generate_batch(orig_val, forg_val, batch_sz),\n",
        "                              validation_steps = num_val_samples//batch_sz,\n",
        "                              callbacks = callbacks)"
      ],
      "execution_count": 43,
      "outputs": [
        {
          "output_type": "stream",
          "text": [
            "Epoch 1/20\n",
            "43/43 [==============================] - 317s 7s/step - loss: 13.2334 - acc: 0.4789 - val_loss: 0.5049 - val_acc: 0.5190\n",
            "\n",
            "Epoch 00001: val_loss improved from inf to 0.50490, saving model to /content/drive/My Drive/Colab Notebooks/weights3/signet-Engsig61-001.h5\n",
            "Epoch 2/20\n",
            "43/43 [==============================] - 63s 1s/step - loss: 0.2574 - acc: 0.4619 - val_loss: 0.5071 - val_acc: 0.5234\n",
            "\n",
            "Epoch 00002: val_loss did not improve from 0.50490\n",
            "Epoch 3/20\n",
            "43/43 [==============================] - 59s 1s/step - loss: 0.2720 - acc: 0.4630 - val_loss: 0.5047 - val_acc: 0.5312\n",
            "\n",
            "Epoch 00003: val_loss improved from 0.50490 to 0.50466, saving model to /content/drive/My Drive/Colab Notebooks/weights3/signet-Engsig61-003.h5\n",
            "Epoch 4/20\n",
            "43/43 [==============================] - 58s 1s/step - loss: 0.2603 - acc: 0.4551 - val_loss: 0.4974 - val_acc: 0.5167\n",
            "\n",
            "Epoch 00004: val_loss improved from 0.50466 to 0.49739, saving model to /content/drive/My Drive/Colab Notebooks/weights3/signet-Engsig61-004.h5\n",
            "Epoch 5/20\n",
            "43/43 [==============================] - 59s 1s/step - loss: 0.2605 - acc: 0.4681 - val_loss: 0.5070 - val_acc: 0.5212\n",
            "\n",
            "Epoch 00005: val_loss did not improve from 0.49739\n",
            "Epoch 6/20\n",
            "43/43 [==============================] - 59s 1s/step - loss: 0.2614 - acc: 0.4729 - val_loss: 0.4948 - val_acc: 0.5234\n",
            "\n",
            "Epoch 00006: val_loss improved from 0.49739 to 0.49477, saving model to /content/drive/My Drive/Colab Notebooks/weights3/signet-Engsig61-006.h5\n",
            "Epoch 7/20\n",
            "43/43 [==============================] - 59s 1s/step - loss: 0.2563 - acc: 0.4520 - val_loss: 0.4944 - val_acc: 0.5190\n",
            "\n",
            "Epoch 00007: val_loss improved from 0.49477 to 0.49443, saving model to /content/drive/My Drive/Colab Notebooks/weights3/signet-Engsig61-007.h5\n",
            "Epoch 8/20\n",
            "43/43 [==============================] - 59s 1s/step - loss: 0.2429 - acc: 0.4180 - val_loss: 0.4282 - val_acc: 0.5335\n",
            "\n",
            "Epoch 00008: val_loss improved from 0.49443 to 0.42822, saving model to /content/drive/My Drive/Colab Notebooks/weights3/signet-Engsig61-008.h5\n",
            "Epoch 9/20\n",
            "43/43 [==============================] - 59s 1s/step - loss: 0.2430 - acc: 0.4108 - val_loss: 0.3248 - val_acc: 0.5000\n",
            "\n",
            "Epoch 00009: val_loss improved from 0.42822 to 0.32483, saving model to /content/drive/My Drive/Colab Notebooks/weights3/signet-Engsig61-009.h5\n",
            "Epoch 10/20\n",
            "43/43 [==============================] - 58s 1s/step - loss: 0.2089 - acc: 0.3328 - val_loss: 0.2729 - val_acc: 0.4420\n",
            "\n",
            "Epoch 00010: val_loss improved from 0.32483 to 0.27290, saving model to /content/drive/My Drive/Colab Notebooks/weights3/signet-Engsig61-010.h5\n",
            "Epoch 11/20\n",
            "43/43 [==============================] - 59s 1s/step - loss: 0.1870 - acc: 0.2728 - val_loss: 0.3000 - val_acc: 0.4587\n",
            "\n",
            "Epoch 00011: val_loss did not improve from 0.27290\n",
            "Epoch 12/20\n",
            "13/43 [========>.....................] - ETA: 33s - loss: 0.1624 - acc: 0.2240"
          ],
          "name": "stdout"
        },
        {
          "output_type": "error",
          "ename": "KeyboardInterrupt",
          "evalue": "ignored",
          "traceback": [
            "\u001b[0;31m---------------------------------------------------------------------------\u001b[0m",
            "\u001b[0;31mKeyboardInterrupt\u001b[0m                         Traceback (most recent call last)",
            "\u001b[0;32m<ipython-input-43-f07c30d4748d>\u001b[0m in \u001b[0;36m<module>\u001b[0;34m()\u001b[0m\n\u001b[1;32m      4\u001b[0m                               \u001b[0mvalidation_data\u001b[0m \u001b[0;34m=\u001b[0m \u001b[0mgenerate_batch\u001b[0m\u001b[0;34m(\u001b[0m\u001b[0morig_val\u001b[0m\u001b[0;34m,\u001b[0m \u001b[0mforg_val\u001b[0m\u001b[0;34m,\u001b[0m \u001b[0mbatch_sz\u001b[0m\u001b[0;34m)\u001b[0m\u001b[0;34m,\u001b[0m\u001b[0;34m\u001b[0m\u001b[0;34m\u001b[0m\u001b[0m\n\u001b[1;32m      5\u001b[0m                               \u001b[0mvalidation_steps\u001b[0m \u001b[0;34m=\u001b[0m \u001b[0mnum_val_samples\u001b[0m\u001b[0;34m//\u001b[0m\u001b[0mbatch_sz\u001b[0m\u001b[0;34m,\u001b[0m\u001b[0;34m\u001b[0m\u001b[0;34m\u001b[0m\u001b[0m\n\u001b[0;32m----> 6\u001b[0;31m                               callbacks = callbacks)\n\u001b[0m",
            "\u001b[0;32m/usr/local/lib/python3.7/dist-packages/tensorflow/python/keras/engine/training.py\u001b[0m in \u001b[0;36mfit\u001b[0;34m(self, x, y, batch_size, epochs, verbose, callbacks, validation_split, validation_data, shuffle, class_weight, sample_weight, initial_epoch, steps_per_epoch, validation_steps, validation_batch_size, validation_freq, max_queue_size, workers, use_multiprocessing)\u001b[0m\n\u001b[1;32m   1098\u001b[0m                 _r=1):\n\u001b[1;32m   1099\u001b[0m               \u001b[0mcallbacks\u001b[0m\u001b[0;34m.\u001b[0m\u001b[0mon_train_batch_begin\u001b[0m\u001b[0;34m(\u001b[0m\u001b[0mstep\u001b[0m\u001b[0;34m)\u001b[0m\u001b[0;34m\u001b[0m\u001b[0;34m\u001b[0m\u001b[0m\n\u001b[0;32m-> 1100\u001b[0;31m               \u001b[0mtmp_logs\u001b[0m \u001b[0;34m=\u001b[0m \u001b[0mself\u001b[0m\u001b[0;34m.\u001b[0m\u001b[0mtrain_function\u001b[0m\u001b[0;34m(\u001b[0m\u001b[0miterator\u001b[0m\u001b[0;34m)\u001b[0m\u001b[0;34m\u001b[0m\u001b[0;34m\u001b[0m\u001b[0m\n\u001b[0m\u001b[1;32m   1101\u001b[0m               \u001b[0;32mif\u001b[0m \u001b[0mdata_handler\u001b[0m\u001b[0;34m.\u001b[0m\u001b[0mshould_sync\u001b[0m\u001b[0;34m:\u001b[0m\u001b[0;34m\u001b[0m\u001b[0;34m\u001b[0m\u001b[0m\n\u001b[1;32m   1102\u001b[0m                 \u001b[0mcontext\u001b[0m\u001b[0;34m.\u001b[0m\u001b[0masync_wait\u001b[0m\u001b[0;34m(\u001b[0m\u001b[0;34m)\u001b[0m\u001b[0;34m\u001b[0m\u001b[0;34m\u001b[0m\u001b[0m\n",
            "\u001b[0;32m/usr/local/lib/python3.7/dist-packages/tensorflow/python/eager/def_function.py\u001b[0m in \u001b[0;36m__call__\u001b[0;34m(self, *args, **kwds)\u001b[0m\n\u001b[1;32m    826\u001b[0m     \u001b[0mtracing_count\u001b[0m \u001b[0;34m=\u001b[0m \u001b[0mself\u001b[0m\u001b[0;34m.\u001b[0m\u001b[0mexperimental_get_tracing_count\u001b[0m\u001b[0;34m(\u001b[0m\u001b[0;34m)\u001b[0m\u001b[0;34m\u001b[0m\u001b[0;34m\u001b[0m\u001b[0m\n\u001b[1;32m    827\u001b[0m     \u001b[0;32mwith\u001b[0m \u001b[0mtrace\u001b[0m\u001b[0;34m.\u001b[0m\u001b[0mTrace\u001b[0m\u001b[0;34m(\u001b[0m\u001b[0mself\u001b[0m\u001b[0;34m.\u001b[0m\u001b[0m_name\u001b[0m\u001b[0;34m)\u001b[0m \u001b[0;32mas\u001b[0m \u001b[0mtm\u001b[0m\u001b[0;34m:\u001b[0m\u001b[0;34m\u001b[0m\u001b[0;34m\u001b[0m\u001b[0m\n\u001b[0;32m--> 828\u001b[0;31m       \u001b[0mresult\u001b[0m \u001b[0;34m=\u001b[0m \u001b[0mself\u001b[0m\u001b[0;34m.\u001b[0m\u001b[0m_call\u001b[0m\u001b[0;34m(\u001b[0m\u001b[0;34m*\u001b[0m\u001b[0margs\u001b[0m\u001b[0;34m,\u001b[0m \u001b[0;34m**\u001b[0m\u001b[0mkwds\u001b[0m\u001b[0;34m)\u001b[0m\u001b[0;34m\u001b[0m\u001b[0;34m\u001b[0m\u001b[0m\n\u001b[0m\u001b[1;32m    829\u001b[0m       \u001b[0mcompiler\u001b[0m \u001b[0;34m=\u001b[0m \u001b[0;34m\"xla\"\u001b[0m \u001b[0;32mif\u001b[0m \u001b[0mself\u001b[0m\u001b[0;34m.\u001b[0m\u001b[0m_experimental_compile\u001b[0m \u001b[0;32melse\u001b[0m \u001b[0;34m\"nonXla\"\u001b[0m\u001b[0;34m\u001b[0m\u001b[0;34m\u001b[0m\u001b[0m\n\u001b[1;32m    830\u001b[0m       \u001b[0mnew_tracing_count\u001b[0m \u001b[0;34m=\u001b[0m \u001b[0mself\u001b[0m\u001b[0;34m.\u001b[0m\u001b[0mexperimental_get_tracing_count\u001b[0m\u001b[0;34m(\u001b[0m\u001b[0;34m)\u001b[0m\u001b[0;34m\u001b[0m\u001b[0;34m\u001b[0m\u001b[0m\n",
            "\u001b[0;32m/usr/local/lib/python3.7/dist-packages/tensorflow/python/eager/def_function.py\u001b[0m in \u001b[0;36m_call\u001b[0;34m(self, *args, **kwds)\u001b[0m\n\u001b[1;32m    853\u001b[0m       \u001b[0;31m# In this case we have created variables on the first call, so we run the\u001b[0m\u001b[0;34m\u001b[0m\u001b[0;34m\u001b[0m\u001b[0;34m\u001b[0m\u001b[0m\n\u001b[1;32m    854\u001b[0m       \u001b[0;31m# defunned version which is guaranteed to never create variables.\u001b[0m\u001b[0;34m\u001b[0m\u001b[0;34m\u001b[0m\u001b[0;34m\u001b[0m\u001b[0m\n\u001b[0;32m--> 855\u001b[0;31m       \u001b[0;32mreturn\u001b[0m \u001b[0mself\u001b[0m\u001b[0;34m.\u001b[0m\u001b[0m_stateless_fn\u001b[0m\u001b[0;34m(\u001b[0m\u001b[0;34m*\u001b[0m\u001b[0margs\u001b[0m\u001b[0;34m,\u001b[0m \u001b[0;34m**\u001b[0m\u001b[0mkwds\u001b[0m\u001b[0;34m)\u001b[0m  \u001b[0;31m# pylint: disable=not-callable\u001b[0m\u001b[0;34m\u001b[0m\u001b[0;34m\u001b[0m\u001b[0m\n\u001b[0m\u001b[1;32m    856\u001b[0m     \u001b[0;32melif\u001b[0m \u001b[0mself\u001b[0m\u001b[0;34m.\u001b[0m\u001b[0m_stateful_fn\u001b[0m \u001b[0;32mis\u001b[0m \u001b[0;32mnot\u001b[0m \u001b[0;32mNone\u001b[0m\u001b[0;34m:\u001b[0m\u001b[0;34m\u001b[0m\u001b[0;34m\u001b[0m\u001b[0m\n\u001b[1;32m    857\u001b[0m       \u001b[0;31m# Release the lock early so that multiple threads can perform the call\u001b[0m\u001b[0;34m\u001b[0m\u001b[0;34m\u001b[0m\u001b[0;34m\u001b[0m\u001b[0m\n",
            "\u001b[0;32m/usr/local/lib/python3.7/dist-packages/tensorflow/python/eager/function.py\u001b[0m in \u001b[0;36m__call__\u001b[0;34m(self, *args, **kwargs)\u001b[0m\n\u001b[1;32m   2941\u001b[0m        filtered_flat_args) = self._maybe_define_function(args, kwargs)\n\u001b[1;32m   2942\u001b[0m     return graph_function._call_flat(\n\u001b[0;32m-> 2943\u001b[0;31m         filtered_flat_args, captured_inputs=graph_function.captured_inputs)  # pylint: disable=protected-access\n\u001b[0m\u001b[1;32m   2944\u001b[0m \u001b[0;34m\u001b[0m\u001b[0m\n\u001b[1;32m   2945\u001b[0m   \u001b[0;34m@\u001b[0m\u001b[0mproperty\u001b[0m\u001b[0;34m\u001b[0m\u001b[0;34m\u001b[0m\u001b[0m\n",
            "\u001b[0;32m/usr/local/lib/python3.7/dist-packages/tensorflow/python/eager/function.py\u001b[0m in \u001b[0;36m_call_flat\u001b[0;34m(self, args, captured_inputs, cancellation_manager)\u001b[0m\n\u001b[1;32m   1917\u001b[0m       \u001b[0;31m# No tape is watching; skip to running the function.\u001b[0m\u001b[0;34m\u001b[0m\u001b[0;34m\u001b[0m\u001b[0;34m\u001b[0m\u001b[0m\n\u001b[1;32m   1918\u001b[0m       return self._build_call_outputs(self._inference_function.call(\n\u001b[0;32m-> 1919\u001b[0;31m           ctx, args, cancellation_manager=cancellation_manager))\n\u001b[0m\u001b[1;32m   1920\u001b[0m     forward_backward = self._select_forward_and_backward_functions(\n\u001b[1;32m   1921\u001b[0m         \u001b[0margs\u001b[0m\u001b[0;34m,\u001b[0m\u001b[0;34m\u001b[0m\u001b[0;34m\u001b[0m\u001b[0m\n",
            "\u001b[0;32m/usr/local/lib/python3.7/dist-packages/tensorflow/python/eager/function.py\u001b[0m in \u001b[0;36mcall\u001b[0;34m(self, ctx, args, cancellation_manager)\u001b[0m\n\u001b[1;32m    558\u001b[0m               \u001b[0minputs\u001b[0m\u001b[0;34m=\u001b[0m\u001b[0margs\u001b[0m\u001b[0;34m,\u001b[0m\u001b[0;34m\u001b[0m\u001b[0;34m\u001b[0m\u001b[0m\n\u001b[1;32m    559\u001b[0m               \u001b[0mattrs\u001b[0m\u001b[0;34m=\u001b[0m\u001b[0mattrs\u001b[0m\u001b[0;34m,\u001b[0m\u001b[0;34m\u001b[0m\u001b[0;34m\u001b[0m\u001b[0m\n\u001b[0;32m--> 560\u001b[0;31m               ctx=ctx)\n\u001b[0m\u001b[1;32m    561\u001b[0m         \u001b[0;32melse\u001b[0m\u001b[0;34m:\u001b[0m\u001b[0;34m\u001b[0m\u001b[0;34m\u001b[0m\u001b[0m\n\u001b[1;32m    562\u001b[0m           outputs = execute.execute_with_cancellation(\n",
            "\u001b[0;32m/usr/local/lib/python3.7/dist-packages/tensorflow/python/eager/execute.py\u001b[0m in \u001b[0;36mquick_execute\u001b[0;34m(op_name, num_outputs, inputs, attrs, ctx, name)\u001b[0m\n\u001b[1;32m     58\u001b[0m     \u001b[0mctx\u001b[0m\u001b[0;34m.\u001b[0m\u001b[0mensure_initialized\u001b[0m\u001b[0;34m(\u001b[0m\u001b[0;34m)\u001b[0m\u001b[0;34m\u001b[0m\u001b[0;34m\u001b[0m\u001b[0m\n\u001b[1;32m     59\u001b[0m     tensors = pywrap_tfe.TFE_Py_Execute(ctx._handle, device_name, op_name,\n\u001b[0;32m---> 60\u001b[0;31m                                         inputs, attrs, num_outputs)\n\u001b[0m\u001b[1;32m     61\u001b[0m   \u001b[0;32mexcept\u001b[0m \u001b[0mcore\u001b[0m\u001b[0;34m.\u001b[0m\u001b[0m_NotOkStatusException\u001b[0m \u001b[0;32mas\u001b[0m \u001b[0me\u001b[0m\u001b[0;34m:\u001b[0m\u001b[0;34m\u001b[0m\u001b[0;34m\u001b[0m\u001b[0m\n\u001b[1;32m     62\u001b[0m     \u001b[0;32mif\u001b[0m \u001b[0mname\u001b[0m \u001b[0;32mis\u001b[0m \u001b[0;32mnot\u001b[0m \u001b[0;32mNone\u001b[0m\u001b[0;34m:\u001b[0m\u001b[0;34m\u001b[0m\u001b[0;34m\u001b[0m\u001b[0m\n",
            "\u001b[0;31mKeyboardInterrupt\u001b[0m: "
          ]
        }
      ]
    },
    {
      "cell_type": "markdown",
      "metadata": {
        "id": "zuD8Bm23YBrB"
      },
      "source": [
        "# Testing"
      ]
    },
    {
      "cell_type": "code",
      "metadata": {
        "id": "U0Lna1HrYBrC"
      },
      "source": [
        "tpr_list = []\n",
        "tnr_list = []\n",
        "threshold_list = []\n",
        "\n",
        "def compute_accuracy_roc(predictions, labels):\n",
        "    '''Compute accuracy with a range of thresholds on distances.\n",
        "    '''\n",
        "    dmax = np.max(predictions)\n",
        "    dmin = np.min(predictions)\n",
        "    nsame = np.sum(labels == 1)\n",
        "    ndiff = np.sum(labels == 0)\n",
        "   \n",
        "    step = 0.01\n",
        "    max_acc = 0\n",
        "    best_thresh = -1\n",
        "   \n",
        "    for d in np.arange(dmin, dmax+step, step):\n",
        "        idx1 = predictions.ravel() <= d\n",
        "        idx2 = predictions.ravel() > d\n",
        "       \n",
        "        tpr = float(np.sum(labels[idx1] == 1)) / nsame       \n",
        "        tnr = float(np.sum(labels[idx2] == 0)) / ndiff\n",
        "        acc = 0.5 * (tpr + tnr)       \n",
        "#       print ('ROC', acc, tpr, tnr)\n",
        "\n",
        "        if (acc > max_acc):\n",
        "            max_acc, best_thresh = acc, d\n",
        "        tpr_list.append(tpr)\n",
        "        tnr_list.append(tnr)\n",
        "        threshold_list.append(best_thresh)\n",
        "           \n",
        "    return max_acc, best_thresh"
      ],
      "execution_count": 47,
      "outputs": []
    },
    {
      "cell_type": "markdown",
      "metadata": {
        "id": "vfaic-ZdYBrF"
      },
      "source": [
        "### Loading the weights"
      ]
    },
    {
      "cell_type": "code",
      "metadata": {
        "id": "JbRIgCNiYBrF"
      },
      "source": [
        "model.load_weights('/content/drive/My Drive/Colab Notebooks/weights3/signet-Engsig61-006.h5')"
      ],
      "execution_count": 25,
      "outputs": []
    },
    {
      "cell_type": "code",
      "metadata": {
        "id": "3WMxkdt6YBrI"
      },
      "source": [
        "test_gen = generate_batch(orig_test, forg_test, 1)\n",
        "pred, tr_y = [], [] #tr_y have label\n",
        "for i in range(num_test_samples):\n",
        "    (img1, img2), label = next(test_gen)\n",
        "    tr_y.append(label)\n",
        "    pred.append(model.predict([img1, img2])[0][0])"
      ],
      "execution_count": 26,
      "outputs": []
    },
    {
      "cell_type": "code",
      "metadata": {
        "id": "WvlfFBnfYBrL",
        "colab": {
          "base_uri": "https://localhost:8080/"
        },
        "outputId": "2e5e68f3-177f-482c-cdc0-103c80f3dce4"
      },
      "source": [
        "tr_acc, threshold = compute_accuracy_roc(np.array(pred), np.array(tr_y))\n",
        "tr_acc, threshold"
      ],
      "execution_count": 48,
      "outputs": [
        {
          "output_type": "execute_result",
          "data": {
            "text/plain": [
              "(0.8734673754608592, 0.012809165744110942)"
            ]
          },
          "metadata": {
            "tags": []
          },
          "execution_count": 48
        }
      ]
    },
    {
      "cell_type": "markdown",
      "metadata": {
        "id": "afRft2ltBsHg"
      },
      "source": [
        "### Precision Recall and F-score"
      ]
    },
    {
      "cell_type": "code",
      "metadata": {
        "id": "_qDxSvWtBmp6"
      },
      "source": [
        "pred_binary = [1 if x<0.012809 else 0 for x in pred]"
      ],
      "execution_count": 34,
      "outputs": []
    },
    {
      "cell_type": "code",
      "metadata": {
        "colab": {
          "base_uri": "https://localhost:8080/"
        },
        "id": "ClnAfP_UBrBo",
        "outputId": "433af058-baec-43eb-bcac-04ef5fcc8a4a"
      },
      "source": [
        "from sklearn.metrics import precision_recall_fscore_support as score\n",
        "precision, recall, fscore, support = score(pred_binary, tr_y,average='macro')\n",
        "precision,recall,fscore"
      ],
      "execution_count": 35,
      "outputs": [
        {
          "output_type": "execute_result",
          "data": {
            "text/plain": [
              "(0.8734673754608592, 0.8835046554115031, 0.8719379092893524)"
            ]
          },
          "metadata": {
            "tags": []
          },
          "execution_count": 35
        }
      ]
    },
    {
      "cell_type": "markdown",
      "metadata": {
        "id": "z-ffAl-JD6C9"
      },
      "source": [
        "### Plots"
      ]
    },
    {
      "cell_type": "code",
      "metadata": {
        "colab": {
          "base_uri": "https://localhost:8080/",
          "height": 295
        },
        "id": "ndm1DDzVIulJ",
        "outputId": "64c6ed07-7767-459e-eac9-05c5e99c6229"
      },
      "source": [
        "plt.plot(threshold_list,tpr_list,'g--')\n",
        "plt.xlabel('Threshold')\n",
        "plt.ylabel('Accuracy')\n",
        "plt.title('True Positive Rate')\n",
        "\n",
        "from google.colab import files\n",
        "plt.savefig(\"TPR.png\")\n",
        "files.download(\"TPR.png\") "
      ],
      "execution_count": 63,
      "outputs": [
        {
          "output_type": "display_data",
          "data": {
            "application/javascript": [
              "\n",
              "    async function download(id, filename, size) {\n",
              "      if (!google.colab.kernel.accessAllowed) {\n",
              "        return;\n",
              "      }\n",
              "      const div = document.createElement('div');\n",
              "      const label = document.createElement('label');\n",
              "      label.textContent = `Downloading \"${filename}\": `;\n",
              "      div.appendChild(label);\n",
              "      const progress = document.createElement('progress');\n",
              "      progress.max = size;\n",
              "      div.appendChild(progress);\n",
              "      document.body.appendChild(div);\n",
              "\n",
              "      const buffers = [];\n",
              "      let downloaded = 0;\n",
              "\n",
              "      const channel = await google.colab.kernel.comms.open(id);\n",
              "      // Send a message to notify the kernel that we're ready.\n",
              "      channel.send({})\n",
              "\n",
              "      for await (const message of channel.messages) {\n",
              "        // Send a message to notify the kernel that we're ready.\n",
              "        channel.send({})\n",
              "        if (message.buffers) {\n",
              "          for (const buffer of message.buffers) {\n",
              "            buffers.push(buffer);\n",
              "            downloaded += buffer.byteLength;\n",
              "            progress.value = downloaded;\n",
              "          }\n",
              "        }\n",
              "      }\n",
              "      const blob = new Blob(buffers, {type: 'application/binary'});\n",
              "      const a = document.createElement('a');\n",
              "      a.href = window.URL.createObjectURL(blob);\n",
              "      a.download = filename;\n",
              "      div.appendChild(a);\n",
              "      a.click();\n",
              "      div.remove();\n",
              "    }\n",
              "  "
            ],
            "text/plain": [
              "<IPython.core.display.Javascript object>"
            ]
          },
          "metadata": {
            "tags": []
          }
        },
        {
          "output_type": "display_data",
          "data": {
            "application/javascript": [
              "download(\"download_767e0b86-d73f-468a-8dfa-20aec918c671\", \"TPR.png\", 13152)"
            ],
            "text/plain": [
              "<IPython.core.display.Javascript object>"
            ]
          },
          "metadata": {
            "tags": []
          }
        },
        {
          "output_type": "display_data",
          "data": {
            "image/png": "[encoded data removed]",
            "text/plain": [
              "<Figure size 432x288 with 1 Axes>"
            ]
          },
          "metadata": {
            "tags": [],
            "needs_background": "light"
          }
        }
      ]
    },
    {
      "cell_type": "code",
      "metadata": {
        "colab": {
          "base_uri": "https://localhost:8080/",
          "height": 295
        },
        "id": "lNyGzbarL2Er",
        "outputId": "4b1f5020-70e3-414c-e7d1-6817ead1890a"
      },
      "source": [
        "plt.plot(threshold_list,tnr_list,'y--')\n",
        "plt.xlabel('Threshold')\n",
        "plt.ylabel('Accuracy')\n",
        "plt.title('True Negative Rate')\n",
        "\n",
        "from google.colab import files\n",
        "plt.savefig(\"TNR.png\")\n",
        "files.download(\"TNR.png\") "
      ],
      "execution_count": 64,
      "outputs": [
        {
          "output_type": "display_data",
          "data": {
            "application/javascript": [
              "\n",
              "    async function download(id, filename, size) {\n",
              "      if (!google.colab.kernel.accessAllowed) {\n",
              "        return;\n",
              "      }\n",
              "      const div = document.createElement('div');\n",
              "      const label = document.createElement('label');\n",
              "      label.textContent = `Downloading \"${filename}\": `;\n",
              "      div.appendChild(label);\n",
              "      const progress = document.createElement('progress');\n",
              "      progress.max = size;\n",
              "      div.appendChild(progress);\n",
              "      document.body.appendChild(div);\n",
              "\n",
              "      const buffers = [];\n",
              "      let downloaded = 0;\n",
              "\n",
              "      const channel = await google.colab.kernel.comms.open(id);\n",
              "      // Send a message to notify the kernel that we're ready.\n",
              "      channel.send({})\n",
              "\n",
              "      for await (const message of channel.messages) {\n",
              "        // Send a message to notify the kernel that we're ready.\n",
              "        channel.send({})\n",
              "        if (message.buffers) {\n",
              "          for (const buffer of message.buffers) {\n",
              "            buffers.push(buffer);\n",
              "            downloaded += buffer.byteLength;\n",
              "            progress.value = downloaded;\n",
              "          }\n",
              "        }\n",
              "      }\n",
              "      const blob = new Blob(buffers, {type: 'application/binary'});\n",
              "      const a = document.createElement('a');\n",
              "      a.href = window.URL.createObjectURL(blob);\n",
              "      a.download = filename;\n",
              "      div.appendChild(a);\n",
              "      a.click();\n",
              "      div.remove();\n",
              "    }\n",
              "  "
            ],
            "text/plain": [
              "<IPython.core.display.Javascript object>"
            ]
          },
          "metadata": {
            "tags": []
          }
        },
        {
          "output_type": "display_data",
          "data": {
            "application/javascript": [
              "download(\"download_40e7b193-c0be-4b53-be1e-76578e316184\", \"TNR.png\", 11729)"
            ],
            "text/plain": [
              "<IPython.core.display.Javascript object>"
            ]
          },
          "metadata": {
            "tags": []
          }
        },
        {
          "output_type": "display_data",
          "data": {
            "image/png": "[encoded data removed]",
            "text/plain": [
              "<Figure size 432x288 with 1 Axes>"
            ]
          },
          "metadata": {
            "tags": [],
            "needs_background": "light"
          }
        }
      ]
    },
    {
      "cell_type": "code",
      "metadata": {
        "colab": {
          "base_uri": "https://localhost:8080/",
          "height": 279
        },
        "id": "D2oZSehyJIBF",
        "outputId": "150e6cd8-1a21-4206-abfd-a55c69bec428"
      },
      "source": [
        "fig, ax = plt.subplots()\n",
        "\n",
        "ax.plot(threshold_list, tnr_list, 'y--', label='TNR')\n",
        "ax.plot(threshold_list, tpr_list, 'g--', label='TPR')\n",
        "plt.xlabel('Threshold')\n",
        "plt.ylabel('Accuracy')\n",
        "plt.plot(0.0128,tr_acc,'ro', label='EER') \n",
        "\n",
        "legend = ax.legend(loc='upper center', shadow=True, fontsize='x-large')\n",
        "# Put a nicer background color on the legend.\n",
        "legend.get_frame().set_facecolor('C0')\n",
        "\n",
        "from google.colab import files\n",
        "plt.savefig(\"EER.png\")\n",
        "files.download(\"EER.png\") "
      ],
      "execution_count": 67,
      "outputs": [
        {
          "output_type": "display_data",
          "data": {
            "application/javascript": [
              "\n",
              "    async function download(id, filename, size) {\n",
              "      if (!google.colab.kernel.accessAllowed) {\n",
              "        return;\n",
              "      }\n",
              "      const div = document.createElement('div');\n",
              "      const label = document.createElement('label');\n",
              "      label.textContent = `Downloading \"${filename}\": `;\n",
              "      div.appendChild(label);\n",
              "      const progress = document.createElement('progress');\n",
              "      progress.max = size;\n",
              "      div.appendChild(progress);\n",
              "      document.body.appendChild(div);\n",
              "\n",
              "      const buffers = [];\n",
              "      let downloaded = 0;\n",
              "\n",
              "      const channel = await google.colab.kernel.comms.open(id);\n",
              "      // Send a message to notify the kernel that we're ready.\n",
              "      channel.send({})\n",
              "\n",
              "      for await (const message of channel.messages) {\n",
              "        // Send a message to notify the kernel that we're ready.\n",
              "        channel.send({})\n",
              "        if (message.buffers) {\n",
              "          for (const buffer of message.buffers) {\n",
              "            buffers.push(buffer);\n",
              "            downloaded += buffer.byteLength;\n",
              "            progress.value = downloaded;\n",
              "          }\n",
              "        }\n",
              "      }\n",
              "      const blob = new Blob(buffers, {type: 'application/binary'});\n",
              "      const a = document.createElement('a');\n",
              "      a.href = window.URL.createObjectURL(blob);\n",
              "      a.download = filename;\n",
              "      div.appendChild(a);\n",
              "      a.click();\n",
              "      div.remove();\n",
              "    }\n",
              "  "
            ],
            "text/plain": [
              "<IPython.core.display.Javascript object>"
            ]
          },
          "metadata": {
            "tags": []
          }
        },
        {
          "output_type": "display_data",
          "data": {
            "application/javascript": [
              "download(\"download_9047964d-0526-4c52-8420-b1ad824efb05\", \"EER.png\", 15966)"
            ],
            "text/plain": [
              "<IPython.core.display.Javascript object>"
            ]
          },
          "metadata": {
            "tags": []
          }
        },
        {
          "output_type": "display_data",
          "data": {
            "image/png": "[encoded data removed]",
            "text/plain": [
              "<Figure size 432x288 with 1 Axes>"
            ]
          },
          "metadata": {
            "tags": [],
            "needs_background": "light"
          }
        }
      ]
    },
    {
      "cell_type": "markdown",
      "metadata": {
        "id": "4Hyg_6fpYBrO"
      },
      "source": [
        "#### Accuracy = 87.34% and Threshold = 0.0128 \n",
        "\n"
      ]
    },
    {
      "cell_type": "code",
      "metadata": {
        "id": "Sv2znb-gYBrP"
      },
      "source": [
        "def predict_score():\n",
        "    '''Predict distance score and classify test images as Genuine or Forged'''\n",
        "    test_point, test_label = next(test_gen)\n",
        "    img1, img2 = test_point[0], test_point[1]\n",
        "    #print(img1)\n",
        "    fig, (ax1, ax2) = plt.subplots(1, 2, figsize = (10, 10))\n",
        "    ax1.imshow(np.squeeze(img1), cmap='gray')\n",
        "    ax2.imshow(np.squeeze(img2), cmap='gray')\n",
        "    ax1.set_title('Genuine')\n",
        "    if test_label == 1:\n",
        "        ax2.set_title('Genuine')\n",
        "    else:\n",
        "        ax2.set_title('Forged')\n",
        "    ax1.axis('off')\n",
        "    ax2.axis('off')\n",
        "    plt.show()\n",
        "    result = model.predict([img1, img2])\n",
        "    diff = result[0][0]\n",
        "    print(\"Difference Score = \", diff)\n",
        "    if diff > threshold:\n",
        "        print(\"Its a Forged Signature\")\n",
        "    else:\n",
        "        print(\"Its a Genuine Signature\")"
      ],
      "execution_count": 28,
      "outputs": []
    },
    {
      "cell_type": "code",
      "metadata": {
        "id": "p0ciLHFRYBrS",
        "colab": {
          "base_uri": "https://localhost:8080/",
          "height": 261
        },
        "outputId": "678b3d25-edb7-4f6d-a945-b332e59e3fa7"
      },
      "source": [
        "predict_score()"
      ],
      "execution_count": 31,
      "outputs": [
        {
          "output_type": "display_data",
          "data": {
            "image/png": "[encoded data removed]",
            "text/plain": [
              "<Figure size 720x720 with 2 Axes>"
            ]
          },
          "metadata": {
            "tags": [],
            "needs_background": "light"
          }
        },
        {
          "output_type": "stream",
          "text": [
            "Difference Score =  0.027528115\n",
            "Its a Forged Signature\n"
          ],
          "name": "stdout"
        }
      ]
    },
    {
      "cell_type": "markdown",
      "metadata": {
        "id": "yi4OmSp4YBto"
      },
      "source": [
        "### Saving Model Architecture for further use."
      ]
    },
    {
      "cell_type": "code",
      "metadata": {
        "id": "Z7t12iVjYBtp"
      },
      "source": [
        "model_json=model.to_json()"
      ],
      "execution_count": 68,
      "outputs": []
    },
    {
      "cell_type": "code",
      "metadata": {
        "id": "LK0Fhj23YBtr"
      },
      "source": [
        "with open(\"model.json\", \"w\") as json_file:\n",
        "    json_file.write(model_json)"
      ],
      "execution_count": 70,
      "outputs": []
    },
    {
      "cell_type": "code",
      "metadata": {
        "id": "-nSS12X5YBts"
      },
      "source": [
        "siamese_json=base_network.to_json()\n",
        "with open(\"siamese_BaseNetwork.json\",\"w\") as json_file:\n",
        "    json_file.write(siamese_json)\n"
      ],
      "execution_count": 72,
      "outputs": []
    },
    {
      "cell_type": "code",
      "metadata": {
        "colab": {
          "base_uri": "https://localhost:8080/",
          "height": 17
        },
        "id": "m9KyTdHPNa7d",
        "outputId": "011d6386-b567-4949-ab67-70bd3048c887"
      },
      "source": [
        "from google.colab import files\n",
        "files.download(\"model.json\") \n"
      ],
      "execution_count": 73,
      "outputs": [
        {
          "output_type": "display_data",
          "data": {
            "application/javascript": [
              "\n",
              "    async function download(id, filename, size) {\n",
              "      if (!google.colab.kernel.accessAllowed) {\n",
              "        return;\n",
              "      }\n",
              "      const div = document.createElement('div');\n",
              "      const label = document.createElement('label');\n",
              "      label.textContent = `Downloading \"${filename}\": `;\n",
              "      div.appendChild(label);\n",
              "      const progress = document.createElement('progress');\n",
              "      progress.max = size;\n",
              "      div.appendChild(progress);\n",
              "      document.body.appendChild(div);\n",
              "\n",
              "      const buffers = [];\n",
              "      let downloaded = 0;\n",
              "\n",
              "      const channel = await google.colab.kernel.comms.open(id);\n",
              "      // Send a message to notify the kernel that we're ready.\n",
              "      channel.send({})\n",
              "\n",
              "      for await (const message of channel.messages) {\n",
              "        // Send a message to notify the kernel that we're ready.\n",
              "        channel.send({})\n",
              "        if (message.buffers) {\n",
              "          for (const buffer of message.buffers) {\n",
              "            buffers.push(buffer);\n",
              "            downloaded += buffer.byteLength;\n",
              "            progress.value = downloaded;\n",
              "          }\n",
              "        }\n",
              "      }\n",
              "      const blob = new Blob(buffers, {type: 'application/binary'});\n",
              "      const a = document.createElement('a');\n",
              "      a.href = window.URL.createObjectURL(blob);\n",
              "      a.download = filename;\n",
              "      div.appendChild(a);\n",
              "      a.click();\n",
              "      div.remove();\n",
              "    }\n",
              "  "
            ],
            "text/plain": [
              "<IPython.core.display.Javascript object>"
            ]
          },
          "metadata": {
            "tags": []
          }
        },
        {
          "output_type": "display_data",
          "data": {
            "application/javascript": [
              "download(\"download_e85717be-1cd3-484d-849d-33ab35ab6036\", \"model.json\", 7944)"
            ],
            "text/plain": [
              "<IPython.core.display.Javascript object>"
            ]
          },
          "metadata": {
            "tags": []
          }
        }
      ]
    },
    {
      "cell_type": "code",
      "metadata": {
        "colab": {
          "base_uri": "https://localhost:8080/",
          "height": 17
        },
        "id": "ebt6aR9pNghd",
        "outputId": "40aa721e-2548-438b-ca81-b57d07abfd7f"
      },
      "source": [
        "files.download('siamese_BaseNetwork.json')"
      ],
      "execution_count": 75,
      "outputs": [
        {
          "output_type": "display_data",
          "data": {
            "application/javascript": [
              "\n",
              "    async function download(id, filename, size) {\n",
              "      if (!google.colab.kernel.accessAllowed) {\n",
              "        return;\n",
              "      }\n",
              "      const div = document.createElement('div');\n",
              "      const label = document.createElement('label');\n",
              "      label.textContent = `Downloading \"${filename}\": `;\n",
              "      div.appendChild(label);\n",
              "      const progress = document.createElement('progress');\n",
              "      progress.max = size;\n",
              "      div.appendChild(progress);\n",
              "      document.body.appendChild(div);\n",
              "\n",
              "      const buffers = [];\n",
              "      let downloaded = 0;\n",
              "\n",
              "      const channel = await google.colab.kernel.comms.open(id);\n",
              "      // Send a message to notify the kernel that we're ready.\n",
              "      channel.send({})\n",
              "\n",
              "      for await (const message of channel.messages) {\n",
              "        // Send a message to notify the kernel that we're ready.\n",
              "        channel.send({})\n",
              "        if (message.buffers) {\n",
              "          for (const buffer of message.buffers) {\n",
              "            buffers.push(buffer);\n",
              "            downloaded += buffer.byteLength;\n",
              "            progress.value = downloaded;\n",
              "          }\n",
              "        }\n",
              "      }\n",
              "      const blob = new Blob(buffers, {type: 'application/binary'});\n",
              "      const a = document.createElement('a');\n",
              "      a.href = window.URL.createObjectURL(blob);\n",
              "      a.download = filename;\n",
              "      div.appendChild(a);\n",
              "      a.click();\n",
              "      div.remove();\n",
              "    }\n",
              "  "
            ],
            "text/plain": [
              "<IPython.core.display.Javascript object>"
            ]
          },
          "metadata": {
            "tags": []
          }
        },
        {
          "output_type": "display_data",
          "data": {
            "application/javascript": [
              "download(\"download_b6ca2a0a-3408-4957-bac5-5cb0744c1705\", \"siamese_BaseNetwork.json\", 6337)"
            ],
            "text/plain": [
              "<IPython.core.display.Javascript object>"
            ]
          },
          "metadata": {
            "tags": []
          }
        }
      ]
    }
  ]
}